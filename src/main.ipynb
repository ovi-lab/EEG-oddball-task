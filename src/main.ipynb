{
 "cells": [
  {
   "cell_type": "code",
   "execution_count": 1,
   "metadata": {},
   "outputs": [],
   "source": [
    "import PyQt6.QtCore\n",
    "import os\n",
    "os.environ[\"QT_API\"] = \"pyqt5\"\n",
    "\n",
    "\n",
    "# Use qt backend for matplotlab to use interactive mne plots\n",
    "%matplotlib qt"
   ]
  },
  {
   "cell_type": "code",
   "execution_count": 2,
   "metadata": {},
   "outputs": [],
   "source": [
    "import mne \n",
    "import analysis.processing\n",
    "import matplotlib.pyplot as plt\n",
    "import pandas as pd\n",
    "import csv\n",
    "from mne.time_frequency import csd_morlet, csd_fourier\n",
    "from mne.time_frequency import tfr_morlet\n",
    "import matplotlib.patches as patches \n",
    "import numpy as np\n",
    "\n",
    "mne.set_log_level(verbose='WARNING', return_old_level=False, add_frames=None)"
   ]
  },
  {
   "cell_type": "code",
   "execution_count": 3,
   "metadata": {},
   "outputs": [],
   "source": [
    "plt.rcParams['figure.figsize'] = [12, 8]\n",
    "plt.rcParams['figure.dpi'] = 100 # 200 "
   ]
  },
  {
   "cell_type": "code",
   "execution_count": 26,
   "metadata": {},
   "outputs": [
    {
     "name": "stderr",
     "output_type": "stream",
     "text": [
      "/Users/erangad/Documents/Research/oddball-task/src/analysis/processing.py:51: RuntimeWarning: Fiducial point nasion not found, assuming identity unknown to head transformation\n",
      "  raw_filtered.set_montage(montage)\n"
     ]
    },
    {
     "ename": "KeyboardInterrupt",
     "evalue": "",
     "output_type": "error",
     "traceback": [
      "\u001b[0;31m---------------------------------------------------------------------------\u001b[0m",
      "\u001b[0;31mKeyboardInterrupt\u001b[0m                         Traceback (most recent call last)",
      "Cell \u001b[0;32mIn[26], line 7\u001b[0m\n\u001b[1;32m      4\u001b[0m raw \u001b[38;5;241m=\u001b[39m analysis\u001b[38;5;241m.\u001b[39mprocessing\u001b[38;5;241m.\u001b[39mloadData(participant_id)\n\u001b[1;32m      6\u001b[0m \u001b[38;5;66;03m# preprocessig \u001b[39;00m\n\u001b[0;32m----> 7\u001b[0m raw \u001b[38;5;241m=\u001b[39m \u001b[43manalysis\u001b[49m\u001b[38;5;241;43m.\u001b[39;49m\u001b[43mprocessing\u001b[49m\u001b[38;5;241;43m.\u001b[39;49m\u001b[43mpreprocessing\u001b[49m\u001b[43m(\u001b[49m\u001b[43mraw\u001b[49m\u001b[43m)\u001b[49m \n\u001b[1;32m      9\u001b[0m \u001b[38;5;66;03m#generate epochs\u001b[39;00m\n\u001b[1;32m     10\u001b[0m epochs_1, event_dict \u001b[38;5;241m=\u001b[39m analysis\u001b[38;5;241m.\u001b[39mprocessing\u001b[38;5;241m.\u001b[39meventEpochdata(raw)\n",
      "File \u001b[0;32m~/Documents/Research/oddball-task/src/analysis/processing.py:53\u001b[0m, in \u001b[0;36mpreprocessing\u001b[0;34m(raw)\u001b[0m\n\u001b[1;32m     49\u001b[0m montage \u001b[38;5;241m=\u001b[39m tools\u001b[38;5;241m.\u001b[39mhelpers\u001b[38;5;241m.\u001b[39mgetMontage()\n\u001b[1;32m     51\u001b[0m raw_filtered\u001b[38;5;241m.\u001b[39mset_montage(montage)\n\u001b[0;32m---> 53\u001b[0m raw_artifact_corrected \u001b[38;5;241m=\u001b[39m \u001b[43mapplyICA\u001b[49m\u001b[43m(\u001b[49m\u001b[43mraw_filtered\u001b[49m\u001b[43m)\u001b[49m\n\u001b[1;32m     55\u001b[0m \u001b[38;5;28;01mreturn\u001b[39;00m  raw_artifact_corrected\n",
      "File \u001b[0;32m~/Documents/Research/oddball-task/src/analysis/processing.py:209\u001b[0m, in \u001b[0;36mapplyICA\u001b[0;34m(raw)\u001b[0m\n\u001b[1;32m    207\u001b[0m \u001b[38;5;28;01mdef\u001b[39;00m \u001b[38;5;21mapplyICA\u001b[39m(raw):\n\u001b[1;32m    208\u001b[0m     ica \u001b[38;5;241m=\u001b[39m ICA(n_components\u001b[38;5;241m=\u001b[39m\u001b[38;5;241m15\u001b[39m, max_iter\u001b[38;5;241m=\u001b[39m\u001b[38;5;124m\"\u001b[39m\u001b[38;5;124mauto\u001b[39m\u001b[38;5;124m\"\u001b[39m, random_state\u001b[38;5;241m=\u001b[39m\u001b[38;5;241m97\u001b[39m)\n\u001b[0;32m--> 209\u001b[0m     \u001b[43mica\u001b[49m\u001b[38;5;241;43m.\u001b[39;49m\u001b[43mfit\u001b[49m\u001b[43m(\u001b[49m\u001b[43mraw\u001b[49m\u001b[43m)\u001b[49m\n\u001b[1;32m    211\u001b[0m     ica\u001b[38;5;241m.\u001b[39mexclude \u001b[38;5;241m=\u001b[39m []\n\u001b[1;32m    212\u001b[0m     num_excl \u001b[38;5;241m=\u001b[39m \u001b[38;5;241m0\u001b[39m\n",
      "File \u001b[0;32m<decorator-gen-269>:12\u001b[0m, in \u001b[0;36mfit\u001b[0;34m(self, inst, picks, start, stop, decim, reject, flat, tstep, reject_by_annotation, verbose)\u001b[0m\n",
      "File \u001b[0;32m~/Documents/Research/oddball-task/.venv/lib/python3.9/site-packages/mne/preprocessing/ica.py:736\u001b[0m, in \u001b[0;36mICA.fit\u001b[0;34m(self, inst, picks, start, stop, decim, reject, flat, tstep, reject_by_annotation, verbose)\u001b[0m\n\u001b[1;32m    733\u001b[0m \u001b[38;5;28mself\u001b[39m\u001b[38;5;241m.\u001b[39mch_names \u001b[38;5;241m=\u001b[39m \u001b[38;5;28mself\u001b[39m\u001b[38;5;241m.\u001b[39minfo[\u001b[38;5;124m\"\u001b[39m\u001b[38;5;124mch_names\u001b[39m\u001b[38;5;124m\"\u001b[39m]\n\u001b[1;32m    735\u001b[0m \u001b[38;5;28;01mif\u001b[39;00m \u001b[38;5;28misinstance\u001b[39m(inst, BaseRaw):\n\u001b[0;32m--> 736\u001b[0m     \u001b[38;5;28;43mself\u001b[39;49m\u001b[38;5;241;43m.\u001b[39;49m\u001b[43m_fit_raw\u001b[49m\u001b[43m(\u001b[49m\n\u001b[1;32m    737\u001b[0m \u001b[43m        \u001b[49m\u001b[43minst\u001b[49m\u001b[43m,\u001b[49m\n\u001b[1;32m    738\u001b[0m \u001b[43m        \u001b[49m\u001b[43mpicks\u001b[49m\u001b[43m,\u001b[49m\n\u001b[1;32m    739\u001b[0m \u001b[43m        \u001b[49m\u001b[43mstart\u001b[49m\u001b[43m,\u001b[49m\n\u001b[1;32m    740\u001b[0m \u001b[43m        \u001b[49m\u001b[43mstop\u001b[49m\u001b[43m,\u001b[49m\n\u001b[1;32m    741\u001b[0m \u001b[43m        \u001b[49m\u001b[43mdecim\u001b[49m\u001b[43m,\u001b[49m\n\u001b[1;32m    742\u001b[0m \u001b[43m        \u001b[49m\u001b[43mreject\u001b[49m\u001b[43m,\u001b[49m\n\u001b[1;32m    743\u001b[0m \u001b[43m        \u001b[49m\u001b[43mflat\u001b[49m\u001b[43m,\u001b[49m\n\u001b[1;32m    744\u001b[0m \u001b[43m        \u001b[49m\u001b[43mtstep\u001b[49m\u001b[43m,\u001b[49m\n\u001b[1;32m    745\u001b[0m \u001b[43m        \u001b[49m\u001b[43mreject_by_annotation\u001b[49m\u001b[43m,\u001b[49m\n\u001b[1;32m    746\u001b[0m \u001b[43m        \u001b[49m\u001b[43mverbose\u001b[49m\u001b[43m,\u001b[49m\n\u001b[1;32m    747\u001b[0m \u001b[43m    \u001b[49m\u001b[43m)\u001b[49m\n\u001b[1;32m    748\u001b[0m \u001b[38;5;28;01melse\u001b[39;00m:\n\u001b[1;32m    749\u001b[0m     \u001b[38;5;28;01massert\u001b[39;00m \u001b[38;5;28misinstance\u001b[39m(inst, BaseEpochs)\n",
      "File \u001b[0;32m~/Documents/Research/oddball-task/.venv/lib/python3.9/site-packages/mne/preprocessing/ica.py:813\u001b[0m, in \u001b[0;36mICA._fit_raw\u001b[0;34m(self, raw, picks, start, stop, decim, reject, flat, tstep, reject_by_annotation, verbose)\u001b[0m\n\u001b[1;32m    810\u001b[0m     \u001b[38;5;28mself\u001b[39m\u001b[38;5;241m.\u001b[39mreject_ \u001b[38;5;241m=\u001b[39m \u001b[38;5;28;01mNone\u001b[39;00m\n\u001b[1;32m    812\u001b[0m \u001b[38;5;28mself\u001b[39m\u001b[38;5;241m.\u001b[39mn_samples_ \u001b[38;5;241m=\u001b[39m data\u001b[38;5;241m.\u001b[39mshape[\u001b[38;5;241m1\u001b[39m]\n\u001b[0;32m--> 813\u001b[0m \u001b[38;5;28;43mself\u001b[39;49m\u001b[38;5;241;43m.\u001b[39;49m\u001b[43m_fit\u001b[49m\u001b[43m(\u001b[49m\u001b[43mdata\u001b[49m\u001b[43m,\u001b[49m\u001b[43m \u001b[49m\u001b[38;5;124;43m\"\u001b[39;49m\u001b[38;5;124;43mraw\u001b[39;49m\u001b[38;5;124;43m\"\u001b[39;49m\u001b[43m)\u001b[49m\n\u001b[1;32m    815\u001b[0m \u001b[38;5;28;01mreturn\u001b[39;00m \u001b[38;5;28mself\u001b[39m\n",
      "File \u001b[0;32m~/Documents/Research/oddball-task/.venv/lib/python3.9/site-packages/mne/preprocessing/ica.py:961\u001b[0m, in \u001b[0;36mICA._fit\u001b[0;34m(self, data, fit_type)\u001b[0m\n\u001b[1;32m    958\u001b[0m \u001b[38;5;28;01mfrom\u001b[39;00m \u001b[38;5;21;01msklearn\u001b[39;00m\u001b[38;5;21;01m.\u001b[39;00m\u001b[38;5;21;01mdecomposition\u001b[39;00m \u001b[38;5;28;01mimport\u001b[39;00m FastICA\n\u001b[1;32m    960\u001b[0m ica \u001b[38;5;241m=\u001b[39m FastICA(whiten\u001b[38;5;241m=\u001b[39m\u001b[38;5;28;01mFalse\u001b[39;00m, random_state\u001b[38;5;241m=\u001b[39mrandom_state, \u001b[38;5;241m*\u001b[39m\u001b[38;5;241m*\u001b[39m\u001b[38;5;28mself\u001b[39m\u001b[38;5;241m.\u001b[39mfit_params)\n\u001b[0;32m--> 961\u001b[0m \u001b[43mica\u001b[49m\u001b[38;5;241;43m.\u001b[39;49m\u001b[43mfit\u001b[49m\u001b[43m(\u001b[49m\u001b[43mdata\u001b[49m\u001b[43m[\u001b[49m\u001b[43m:\u001b[49m\u001b[43m,\u001b[49m\u001b[43m \u001b[49m\u001b[43msel\u001b[49m\u001b[43m]\u001b[49m\u001b[43m)\u001b[49m\n\u001b[1;32m    962\u001b[0m \u001b[38;5;28mself\u001b[39m\u001b[38;5;241m.\u001b[39munmixing_matrix_ \u001b[38;5;241m=\u001b[39m ica\u001b[38;5;241m.\u001b[39mcomponents_\n\u001b[1;32m    963\u001b[0m \u001b[38;5;28mself\u001b[39m\u001b[38;5;241m.\u001b[39mn_iter_ \u001b[38;5;241m=\u001b[39m ica\u001b[38;5;241m.\u001b[39mn_iter_\n",
      "File \u001b[0;32m~/Documents/Research/oddball-task/.venv/lib/python3.9/site-packages/sklearn/base.py:1152\u001b[0m, in \u001b[0;36m_fit_context.<locals>.decorator.<locals>.wrapper\u001b[0;34m(estimator, *args, **kwargs)\u001b[0m\n\u001b[1;32m   1145\u001b[0m     estimator\u001b[38;5;241m.\u001b[39m_validate_params()\n\u001b[1;32m   1147\u001b[0m \u001b[38;5;28;01mwith\u001b[39;00m config_context(\n\u001b[1;32m   1148\u001b[0m     skip_parameter_validation\u001b[38;5;241m=\u001b[39m(\n\u001b[1;32m   1149\u001b[0m         prefer_skip_nested_validation \u001b[38;5;129;01mor\u001b[39;00m global_skip_validation\n\u001b[1;32m   1150\u001b[0m     )\n\u001b[1;32m   1151\u001b[0m ):\n\u001b[0;32m-> 1152\u001b[0m     \u001b[38;5;28;01mreturn\u001b[39;00m \u001b[43mfit_method\u001b[49m\u001b[43m(\u001b[49m\u001b[43mestimator\u001b[49m\u001b[43m,\u001b[49m\u001b[43m \u001b[49m\u001b[38;5;241;43m*\u001b[39;49m\u001b[43margs\u001b[49m\u001b[43m,\u001b[49m\u001b[43m \u001b[49m\u001b[38;5;241;43m*\u001b[39;49m\u001b[38;5;241;43m*\u001b[39;49m\u001b[43mkwargs\u001b[49m\u001b[43m)\u001b[49m\n",
      "File \u001b[0;32m~/Documents/Research/oddball-task/.venv/lib/python3.9/site-packages/sklearn/decomposition/_fastica.py:720\u001b[0m, in \u001b[0;36mFastICA.fit\u001b[0;34m(self, X, y)\u001b[0m\n\u001b[1;32m    702\u001b[0m \u001b[38;5;129m@_fit_context\u001b[39m(prefer_skip_nested_validation\u001b[38;5;241m=\u001b[39m\u001b[38;5;28;01mTrue\u001b[39;00m)\n\u001b[1;32m    703\u001b[0m \u001b[38;5;28;01mdef\u001b[39;00m \u001b[38;5;21mfit\u001b[39m(\u001b[38;5;28mself\u001b[39m, X, y\u001b[38;5;241m=\u001b[39m\u001b[38;5;28;01mNone\u001b[39;00m):\n\u001b[1;32m    704\u001b[0m \u001b[38;5;250m    \u001b[39m\u001b[38;5;124;03m\"\"\"Fit the model to X.\u001b[39;00m\n\u001b[1;32m    705\u001b[0m \n\u001b[1;32m    706\u001b[0m \u001b[38;5;124;03m    Parameters\u001b[39;00m\n\u001b[0;32m   (...)\u001b[0m\n\u001b[1;32m    718\u001b[0m \u001b[38;5;124;03m        Returns the instance itself.\u001b[39;00m\n\u001b[1;32m    719\u001b[0m \u001b[38;5;124;03m    \"\"\"\u001b[39;00m\n\u001b[0;32m--> 720\u001b[0m     \u001b[38;5;28;43mself\u001b[39;49m\u001b[38;5;241;43m.\u001b[39;49m\u001b[43m_fit_transform\u001b[49m\u001b[43m(\u001b[49m\u001b[43mX\u001b[49m\u001b[43m,\u001b[49m\u001b[43m \u001b[49m\u001b[43mcompute_sources\u001b[49m\u001b[38;5;241;43m=\u001b[39;49m\u001b[38;5;28;43;01mFalse\u001b[39;49;00m\u001b[43m)\u001b[49m\n\u001b[1;32m    721\u001b[0m     \u001b[38;5;28;01mreturn\u001b[39;00m \u001b[38;5;28mself\u001b[39m\n",
      "File \u001b[0;32m~/Documents/Research/oddball-task/.venv/lib/python3.9/site-packages/sklearn/decomposition/_fastica.py:647\u001b[0m, in \u001b[0;36mFastICA._fit_transform\u001b[0;34m(self, X, compute_sources)\u001b[0m\n\u001b[1;32m    638\u001b[0m kwargs \u001b[38;5;241m=\u001b[39m {\n\u001b[1;32m    639\u001b[0m     \u001b[38;5;124m\"\u001b[39m\u001b[38;5;124mtol\u001b[39m\u001b[38;5;124m\"\u001b[39m: \u001b[38;5;28mself\u001b[39m\u001b[38;5;241m.\u001b[39mtol,\n\u001b[1;32m    640\u001b[0m     \u001b[38;5;124m\"\u001b[39m\u001b[38;5;124mg\u001b[39m\u001b[38;5;124m\"\u001b[39m: g,\n\u001b[0;32m   (...)\u001b[0m\n\u001b[1;32m    643\u001b[0m     \u001b[38;5;124m\"\u001b[39m\u001b[38;5;124mw_init\u001b[39m\u001b[38;5;124m\"\u001b[39m: w_init,\n\u001b[1;32m    644\u001b[0m }\n\u001b[1;32m    646\u001b[0m \u001b[38;5;28;01mif\u001b[39;00m \u001b[38;5;28mself\u001b[39m\u001b[38;5;241m.\u001b[39malgorithm \u001b[38;5;241m==\u001b[39m \u001b[38;5;124m\"\u001b[39m\u001b[38;5;124mparallel\u001b[39m\u001b[38;5;124m\"\u001b[39m:\n\u001b[0;32m--> 647\u001b[0m     W, n_iter \u001b[38;5;241m=\u001b[39m \u001b[43m_ica_par\u001b[49m\u001b[43m(\u001b[49m\u001b[43mX1\u001b[49m\u001b[43m,\u001b[49m\u001b[43m \u001b[49m\u001b[38;5;241;43m*\u001b[39;49m\u001b[38;5;241;43m*\u001b[39;49m\u001b[43mkwargs\u001b[49m\u001b[43m)\u001b[49m\n\u001b[1;32m    648\u001b[0m \u001b[38;5;28;01melif\u001b[39;00m \u001b[38;5;28mself\u001b[39m\u001b[38;5;241m.\u001b[39malgorithm \u001b[38;5;241m==\u001b[39m \u001b[38;5;124m\"\u001b[39m\u001b[38;5;124mdeflation\u001b[39m\u001b[38;5;124m\"\u001b[39m:\n\u001b[1;32m    649\u001b[0m     W, n_iter \u001b[38;5;241m=\u001b[39m _ica_def(X1, \u001b[38;5;241m*\u001b[39m\u001b[38;5;241m*\u001b[39mkwargs)\n",
      "File \u001b[0;32m~/Documents/Research/oddball-task/.venv/lib/python3.9/site-packages/sklearn/decomposition/_fastica.py:117\u001b[0m, in \u001b[0;36m_ica_par\u001b[0;34m(***failed resolving arguments***)\u001b[0m\n\u001b[1;32m    115\u001b[0m p_ \u001b[38;5;241m=\u001b[39m \u001b[38;5;28mfloat\u001b[39m(X\u001b[38;5;241m.\u001b[39mshape[\u001b[38;5;241m1\u001b[39m])\n\u001b[1;32m    116\u001b[0m \u001b[38;5;28;01mfor\u001b[39;00m ii \u001b[38;5;129;01min\u001b[39;00m \u001b[38;5;28mrange\u001b[39m(max_iter):\n\u001b[0;32m--> 117\u001b[0m     gwtx, g_wtx \u001b[38;5;241m=\u001b[39m g(\u001b[43mnp\u001b[49m\u001b[38;5;241;43m.\u001b[39;49m\u001b[43mdot\u001b[49m\u001b[43m(\u001b[49m\u001b[43mW\u001b[49m\u001b[43m,\u001b[49m\u001b[43m \u001b[49m\u001b[43mX\u001b[49m\u001b[43m)\u001b[49m, fun_args)\n\u001b[1;32m    118\u001b[0m     W1 \u001b[38;5;241m=\u001b[39m _sym_decorrelation(np\u001b[38;5;241m.\u001b[39mdot(gwtx, X\u001b[38;5;241m.\u001b[39mT) \u001b[38;5;241m/\u001b[39m p_ \u001b[38;5;241m-\u001b[39m g_wtx[:, np\u001b[38;5;241m.\u001b[39mnewaxis] \u001b[38;5;241m*\u001b[39m W)\n\u001b[1;32m    119\u001b[0m     \u001b[38;5;28;01mdel\u001b[39;00m gwtx, g_wtx\n",
      "File \u001b[0;32m<__array_function__ internals>:200\u001b[0m, in \u001b[0;36mdot\u001b[0;34m(*args, **kwargs)\u001b[0m\n",
      "\u001b[0;31mKeyboardInterrupt\u001b[0m: "
     ]
    }
   ],
   "source": [
    "participant_id = 161\n",
    "\n",
    "# loading data\n",
    "raw = analysis.processing.loadData(participant_id)\n",
    "\n",
    "# preprocessig \n",
    "raw = analysis.processing.preprocessing(raw) \n",
    "\n",
    "#generate epochs\n",
    "epochs_1, event_dict = analysis.processing.eventEpochdata(raw)\n",
    "\n",
    "\n",
    "oddball = epochs_1[\"visual/image_display/onset/stimulus/non_freq\"].average()\n",
    "control = epochs_1[\"visual/image_display/onset/stimulus/freq\"].average()\n",
    "\n",
    "#PZ ~ 7Z\n",
    "\n",
    "evokeds = dict(Oddball=oddball, Control=control)\n",
    "fig  =  mne.viz.plot_compare_evokeds(evokeds, picks=['7Z'], styles = {\"Oddball\": {\"color\" :'red'}, \"Control\":{\"color\": 'blue'}})"
   ]
  },
  {
   "cell_type": "code",
   "execution_count": 4,
   "metadata": {},
   "outputs": [
    {
     "name": "stderr",
     "output_type": "stream",
     "text": [
      "/Users/erangad/Documents/Research/oddball-task/src/analysis/processing.py:51: RuntimeWarning: Fiducial point nasion not found, assuming identity unknown to head transformation\n",
      "  raw_filtered.set_montage(montage)\n",
      "/Users/erangad/Documents/Research/oddball-task/src/analysis/processing.py:51: RuntimeWarning: Fiducial point nasion not found, assuming identity unknown to head transformation\n",
      "  raw_filtered.set_montage(montage)\n",
      "/Users/erangad/Documents/Research/oddball-task/src/analysis/processing.py:51: RuntimeWarning: Fiducial point nasion not found, assuming identity unknown to head transformation\n",
      "  raw_filtered.set_montage(montage)\n",
      "/Users/erangad/Documents/Research/oddball-task/src/analysis/processing.py:51: RuntimeWarning: Fiducial point nasion not found, assuming identity unknown to head transformation\n",
      "  raw_filtered.set_montage(montage)\n",
      "/Users/erangad/Documents/Research/oddball-task/src/analysis/processing.py:51: RuntimeWarning: Fiducial point nasion not found, assuming identity unknown to head transformation\n",
      "  raw_filtered.set_montage(montage)\n",
      "/Users/erangad/Documents/Research/oddball-task/src/analysis/processing.py:51: RuntimeWarning: Fiducial point nasion not found, assuming identity unknown to head transformation\n",
      "  raw_filtered.set_montage(montage)\n",
      "/Users/erangad/Documents/Research/oddball-task/src/analysis/processing.py:51: RuntimeWarning: Fiducial point nasion not found, assuming identity unknown to head transformation\n",
      "  raw_filtered.set_montage(montage)\n",
      "/Users/erangad/Documents/Research/oddball-task/src/analysis/processing.py:51: RuntimeWarning: Fiducial point nasion not found, assuming identity unknown to head transformation\n",
      "  raw_filtered.set_montage(montage)\n",
      "/Users/erangad/Documents/Research/oddball-task/src/analysis/processing.py:51: RuntimeWarning: Fiducial point nasion not found, assuming identity unknown to head transformation\n",
      "  raw_filtered.set_montage(montage)\n",
      "/Users/erangad/Documents/Research/oddball-task/src/analysis/processing.py:51: RuntimeWarning: Fiducial point nasion not found, assuming identity unknown to head transformation\n",
      "  raw_filtered.set_montage(montage)\n",
      "/Users/erangad/Documents/Research/oddball-task/src/analysis/processing.py:51: RuntimeWarning: Fiducial point nasion not found, assuming identity unknown to head transformation\n",
      "  raw_filtered.set_montage(montage)\n",
      "/Users/erangad/Documents/Research/oddball-task/src/analysis/processing.py:51: RuntimeWarning: Fiducial point nasion not found, assuming identity unknown to head transformation\n",
      "  raw_filtered.set_montage(montage)\n",
      "/Users/erangad/Documents/Research/oddball-task/src/analysis/processing.py:51: RuntimeWarning: Fiducial point nasion not found, assuming identity unknown to head transformation\n",
      "  raw_filtered.set_montage(montage)\n",
      "/Users/erangad/Documents/Research/oddball-task/src/analysis/processing.py:51: RuntimeWarning: Fiducial point nasion not found, assuming identity unknown to head transformation\n",
      "  raw_filtered.set_montage(montage)\n",
      "/Users/erangad/Documents/Research/oddball-task/src/analysis/processing.py:51: RuntimeWarning: Fiducial point nasion not found, assuming identity unknown to head transformation\n",
      "  raw_filtered.set_montage(montage)\n",
      "/Users/erangad/Documents/Research/oddball-task/src/analysis/processing.py:51: RuntimeWarning: Fiducial point nasion not found, assuming identity unknown to head transformation\n",
      "  raw_filtered.set_montage(montage)\n",
      "/Users/erangad/Documents/Research/oddball-task/src/analysis/processing.py:51: RuntimeWarning: Fiducial point nasion not found, assuming identity unknown to head transformation\n",
      "  raw_filtered.set_montage(montage)\n",
      "/Users/erangad/Documents/Research/oddball-task/src/analysis/processing.py:51: RuntimeWarning: Fiducial point nasion not found, assuming identity unknown to head transformation\n",
      "  raw_filtered.set_montage(montage)\n",
      "/Users/erangad/Documents/Research/oddball-task/src/analysis/processing.py:51: RuntimeWarning: Fiducial point nasion not found, assuming identity unknown to head transformation\n",
      "  raw_filtered.set_montage(montage)\n",
      "/Users/erangad/Documents/Research/oddball-task/src/analysis/processing.py:51: RuntimeWarning: Fiducial point nasion not found, assuming identity unknown to head transformation\n",
      "  raw_filtered.set_montage(montage)\n",
      "/Users/erangad/Documents/Research/oddball-task/src/analysis/processing.py:51: RuntimeWarning: Fiducial point nasion not found, assuming identity unknown to head transformation\n",
      "  raw_filtered.set_montage(montage)\n",
      "/Users/erangad/Documents/Research/oddball-task/src/analysis/processing.py:51: RuntimeWarning: Fiducial point nasion not found, assuming identity unknown to head transformation\n",
      "  raw_filtered.set_montage(montage)\n",
      "/Users/erangad/Documents/Research/oddball-task/src/analysis/processing.py:51: RuntimeWarning: Fiducial point nasion not found, assuming identity unknown to head transformation\n",
      "  raw_filtered.set_montage(montage)\n",
      "/Users/erangad/Documents/Research/oddball-task/src/analysis/processing.py:51: RuntimeWarning: Fiducial point nasion not found, assuming identity unknown to head transformation\n",
      "  raw_filtered.set_montage(montage)\n",
      "/Users/erangad/Documents/Research/oddball-task/src/analysis/processing.py:51: RuntimeWarning: Fiducial point nasion not found, assuming identity unknown to head transformation\n",
      "  raw_filtered.set_montage(montage)\n",
      "/Users/erangad/Documents/Research/oddball-task/src/analysis/processing.py:51: RuntimeWarning: Fiducial point nasion not found, assuming identity unknown to head transformation\n",
      "  raw_filtered.set_montage(montage)\n",
      "/Users/erangad/Documents/Research/oddball-task/src/analysis/processing.py:51: RuntimeWarning: Fiducial point nasion not found, assuming identity unknown to head transformation\n",
      "  raw_filtered.set_montage(montage)\n"
     ]
    }
   ],
   "source": [
    "# read group evokeds\n",
    "\n",
    "oddball_list = []\n",
    "control_list = []\n",
    "\n",
    "freqs = np.arange(2, 30, 2)\n",
    "n_cycles = 1\n",
    "decim = 1\n",
    "average = False\n",
    "\n",
    "count = 0;\n",
    "\n",
    "for pnum in (151, 152, 153, 161, 162, 163, 171, 172, 173, 181,\\\n",
    "                182, 183, 191, 192, 193, 201, 202, 203, 211, 212, 213,\\\n",
    "                    221, 222, 223, 231, 232, 233, ):\n",
    "    raw = analysis.processing.loadData(pnum)\n",
    "\n",
    "    # preprocessig \n",
    "    raw = analysis.processing.preprocessing(raw)\n",
    "    epochs, event_dict = analysis.processing.eventEpocshByBlocks(raw)\n",
    "\n",
    "    for bnum in (0, 1, 2):\n",
    "        block = \"b\" + str(bnum)\n",
    "\n",
    "        oddball = epochs[f\"oddball & block == '{block}'\"]\n",
    "        control = epochs[f\"control & block == '{block}'\"]\n",
    "\n",
    "        oddball_list.append(oddball.average())\n",
    "        control_list.append(control.average())\n",
    "\n",
    "        oddball_tfr = tfr_morlet(oddball, freqs,\n",
    "                                n_cycles=n_cycles, decim=decim,\n",
    "                                return_itc=False)\n",
    "        oddball_tfr = oddball_tfr.apply_baseline((-0.2, -0.1), mode= 'ratio')\n",
    "        \n",
    "        control_tfr = tfr_morlet(control, freqs,\n",
    "                                n_cycles=n_cycles, decim=decim,\n",
    "                                return_itc=False)\n",
    "        control_tfr = control_tfr.apply_baseline((-0.2, -0.1), mode= 'ratio')\n",
    "\n",
    "        if count == 0 and bnum == 0:\n",
    "             \n",
    "            tfr_times = oddball_tfr.times\n",
    "            tfr_freqs = oddball_tfr.freqs\n",
    "            ch_names = oddball_tfr.ch_names\n",
    "            tfr_info = oddball_tfr.info\n",
    "\n",
    "            control_tfr_array = np.array([control_tfr.data])\n",
    "            oddball_tfr_array = np.array([oddball_tfr.data])\n",
    "        else:\n",
    "            control_tfr_array = np.append(control_tfr_array, [control_tfr.data], axis = 0)\n",
    "            oddball_tfr_array = np.append(oddball_tfr_array, [oddball_tfr.data], axis = 0)\n",
    "\n",
    "    count = count +1 \n",
    "       \n",
    "title= \"ERP\"\n",
    "roi =['7Z']\n",
    "\n",
    "evokeds = dict(\n",
    "    oddball=  oddball_list,\n",
    "    control= control_list,\n",
    ")"
   ]
  },
  {
   "cell_type": "code",
   "execution_count": 17,
   "metadata": {},
   "outputs": [],
   "source": [
    "#save\n",
    "\n",
    "import json\n",
    "import pickle\n",
    "\n",
    "# Create a dictionary\n",
    "tfr_info = {\n",
    "    'times': tfr_times.tolist(),\n",
    "    'freqs': tfr_freqs.tolist(),\n",
    "    'chans': ch_names,\n",
    "}\n",
    "\n",
    "# Save the dictionary to a file\n",
    "with open('tfr_info.json', 'w') as json_file:\n",
    "    json.dump(tfr_info, json_file)\n",
    "\n",
    "\n",
    "np.save('control_tfr_array.npy', control_tfr_array)\n",
    "np.save('oddball_tfr_array.npy', oddball_tfr_array)\n",
    "\n",
    "\n",
    "with open('evokeds.pkl', 'wb') as file:\n",
    "    pickle.dump(evokeds, file)"
   ]
  },
  {
   "cell_type": "code",
   "execution_count": 4,
   "metadata": {},
   "outputs": [],
   "source": [
    "import json\n",
    "import numpy as np\n",
    "import pickle\n",
    "\n",
    "with open('my_dict.json', 'r') as json_file:\n",
    "    tfr_info = json.load(json_file)\n",
    "\n",
    "\n",
    "control_tfr_array = np.load('control_tfr_array.npy')\n",
    "oddball_tfr_array = np.load('oddball_tfr_array.npy')   \n",
    "\n",
    "\n",
    "with open('evokeds.pkl', 'rb') as file:\n",
    "    evokeds = pickle.load(file)\n",
    "\n",
    "\n",
    "tfr_times = np.array(tfr_info[\"times\"])\n",
    "tfr_freqs = freqs = np.array(tfr_info[\"freqs\"])   \n",
    "ch_names =   tfr_info[\"chans\"]"
   ]
  },
  {
   "cell_type": "code",
   "execution_count": 41,
   "metadata": {},
   "outputs": [],
   "source": [
    "analysis.processing.getERPMontage(evokeds)"
   ]
  },
  {
   "cell_type": "code",
   "execution_count": null,
   "metadata": {},
   "outputs": [
    {
     "data": {
      "text/plain": [
       "[<Figure size 3024x1588 with 63 Axes>]"
      ]
     },
     "execution_count": 82,
     "metadata": {},
     "output_type": "execute_result"
    }
   ],
   "source": [
    "mne.viz.plot_compare_evokeds(\n",
    "    evokeds,\n",
    "    picks=\"eeg\",\n",
    "    ci = 0.95,\n",
    "    styles = {\"oddball\": {\"color\" :'red'}, \n",
    "                                        \"control\":{\"color\": 'blue'}}, \n",
    "    axes=\"topo\",\n",
    "    sphere='auto',\n",
    "    ylim = dict(eeg=[-10e-6, 10e-6]) )"
   ]
  },
  {
   "cell_type": "code",
   "execution_count": 25,
   "metadata": {},
   "outputs": [],
   "source": [
    "#front\n",
    "\n",
    "roi = ['1L', '1R','1Z','1LC', '1LB', '2L', '2R', '1RB', '1RC']\n",
    "ci = 0.95\n",
    "invert = False\n",
    "\n",
    "fig, ax = plt.subplots()\n",
    "mne.viz.plot_compare_evokeds(evokeds, picks= roi, ci = ci , \n",
    "                                styles = {\"oddball\": {\"color\" :'red'}, \n",
    "                                        \"control\":{\"color\": 'blue'}}, \n",
    "                                    show =False, axes = ax, combine ='mean' )\n",
    "if(invert): \n",
    "    ax.invert_yaxis()\n",
    "    \n",
    "# ax.set_ylabel(\"V\")\n",
    "\n",
    "ax.set_title(\"ERP of the frontal channels\")\n",
    "\n",
    "plt.show()\n"
   ]
  },
  {
   "cell_type": "code",
   "execution_count": 100,
   "metadata": {},
   "outputs": [],
   "source": [
    "#Occipital\n",
    "\n",
    "roi = ['10L', '9Z','10R', '9L', '8Z', '9R']\n",
    "ci = 0.95\n",
    "invert = False\n",
    "\n",
    "fig, ax = plt.subplots()\n",
    "mne.viz.plot_compare_evokeds(evokeds, picks= roi, ci = ci , \n",
    "                                styles = {\"oddball\": {\"color\" :'red'}, \n",
    "                                        \"control\":{\"color\": 'blue'}}, \n",
    "                                    show =False, axes = ax, combine ='mean' )\n",
    "if(invert): \n",
    "    ax.invert_yaxis()\n",
    "    \n",
    "# ax.set_ylabel(\"V\")\n",
    "ax.set_title(\"ERP of the occiptal channels\")\n",
    "\n",
    "plt.show()\n"
   ]
  },
  {
   "cell_type": "code",
   "execution_count": 27,
   "metadata": {},
   "outputs": [],
   "source": [
    "#Left\n",
    "\n",
    "roi = ['3LB', '3LC','2LB', '1LA', '2LA', '2LC']\n",
    "ci = 0.95\n",
    "invert = False\n",
    "\n",
    "fig, ax = plt.subplots()\n",
    "mne.viz.plot_compare_evokeds(evokeds, picks= roi, ci = ci , \n",
    "                                styles = {\"oddball\": {\"color\" :'red'}, \n",
    "                                        \"control\":{\"color\": 'blue'}}, \n",
    "                                    show =False, axes = ax, combine ='mean' )\n",
    "if(invert): \n",
    "    ax.invert_yaxis()\n",
    "    \n",
    "# ax.set_ylabel(\"V\")\n",
    "ax.set_title(\"ERP of the left channels\")\n",
    "\n",
    "plt.show()"
   ]
  },
  {
   "cell_type": "code",
   "execution_count": 102,
   "metadata": {},
   "outputs": [],
   "source": [
    "#Right\n",
    "\n",
    "roi = ['3RB', '3RC','2RB', '1RA', '2RA', '2RC']\n",
    "ci = 0.95\n",
    "invert = False\n",
    "\n",
    "fig, ax = plt.subplots()\n",
    "mne.viz.plot_compare_evokeds(evokeds, picks= roi, ci = ci , \n",
    "                                styles = {\"oddball\": {\"color\" :'red'}, \n",
    "                                        \"control\":{\"color\": 'blue'}}, \n",
    "                                    show =False, axes = ax, combine ='mean' )\n",
    "if(invert): \n",
    "    ax.invert_yaxis()\n",
    "    \n",
    "# ax.set_ylabel(\"V\")\n",
    "ax.set_title(\"ERP of the right channels\")\n",
    "\n",
    "plt.show()"
   ]
  },
  {
   "cell_type": "markdown",
   "metadata": {},
   "source": [
    "wilkoxon function"
   ]
  },
  {
   "cell_type": "code",
   "execution_count": 8,
   "metadata": {},
   "outputs": [],
   "source": [
    "import mne\n",
    "import numpy as np\n",
    "from scipy import stats\n",
    "\n",
    "def compute_wilcoxon_rank_biserial(oddball_list, control_list, roi, tmin=0.3277, tmax=0.5):\n",
    "    \"\"\"\n",
    "    Computes the Wilcoxon signed-rank test and the rank-biserial correlation for given oddball and control evoked responses.\n",
    "    \n",
    "    Parameters:\n",
    "    - oddball_list: List of MNE evoked objects for the oddball condition.\n",
    "    - control_list: List of MNE evoked objects for the control condition.\n",
    "    - roi: Region of Interest for selecting channels.\n",
    "    - tmin: Start of the time window for averaging (in seconds).\n",
    "    - tmax: End of the time window for averaging (in seconds).\n",
    "    \n",
    "    Returns:\n",
    "    - A dictionary containing Wilcoxon W statistic, p-value, and rank-biserial correlation.\n",
    "    \"\"\"\n",
    "    # Generate difference waves\n",
    "    diff_waves = [\n",
    "        mne.combine_evoked([oddball_list[i], control_list[i]], weights=[-1, 1])\n",
    "        for i in range(len(oddball_list))\n",
    "    ]\n",
    "\n",
    "    # Extract the mean values over the specified time window and ROI\n",
    "    evoked_data = np.array([\n",
    "        np.mean(e.get_data(picks=roi, tmin=tmin, tmax=tmax)) for e in diff_waves\n",
    "    ])\n",
    "\n",
    "    # Perform the Wilcoxon signed-rank test against 0\n",
    "    result = stats.wilcoxon(evoked_data, zero_method='wilcox', correction=True)\n",
    "    w_statistic = result.statistic\n",
    "    pval = result.pvalue\n",
    "\n",
    "    # Calculate the rank-biserial correlation (effect size)\n",
    "    n_pos = np.sum(evoked_data > 0)\n",
    "    n_neg = np.sum(evoked_data < 0)\n",
    "    n = n_pos + n_neg\n",
    "    rank_biserial_correlation = (n_pos - n_neg) / n\n",
    "\n",
    "    # Prepare the result dictionary\n",
    "    results = {\n",
    "        'W': w_statistic,\n",
    "        'p_value': pval,\n",
    "        'rank_biserial_correlation': rank_biserial_correlation\n",
    "    }\n",
    "\n",
    "    # Print the results in a readable format\n",
    "    print(f'P300 Wilcoxon W= {w_statistic:.2f}, p= {pval:.4f}, rank-biserial correlation (r_rb)= {rank_biserial_correlation:.4f}')\n",
    "    \n",
    "    return results\n"
   ]
  },
  {
   "cell_type": "code",
   "execution_count": 16,
   "metadata": {},
   "outputs": [],
   "source": [
    "import mne\n",
    "import numpy as np\n",
    "from scipy import stats\n",
    "\n",
    "def compute_paired_wilcoxon_rank_biserial(oddball_list, control_list, roi, tmin=0.3277, tmax=0.5):\n",
    "    \"\"\"\n",
    "    Computes the paired Wilcoxon signed-rank test and the rank-biserial correlation between two conditions.\n",
    "    \n",
    "    Parameters:\n",
    "    - oddball_list: List of MNE evoked objects for the oddball condition.\n",
    "    - control_list: List of MNE evoked objects for the control condition.\n",
    "    - roi: Region of Interest for selecting channels.\n",
    "    - tmin: Start of the time window for averaging (in seconds).\n",
    "    - tmax: End of the time window for averaging (in seconds).\n",
    "    \n",
    "    Returns:\n",
    "    - A dictionary containing Wilcoxon W statistic, p-value, and rank-biserial correlation.\n",
    "    \"\"\"\n",
    "    # Extract the mean values over the specified time window and ROI for both conditions\n",
    "    oddball_data = np.array([\n",
    "        np.mean(e.get_data(picks=roi, tmin=tmin, tmax=tmax)) for e in oddball_list\n",
    "    ])\n",
    "    control_data = np.array([\n",
    "        np.mean(e.get_data(picks=roi, tmin=tmin, tmax=tmax)) for e in control_list\n",
    "    ])\n",
    "\n",
    "    # Perform the paired Wilcoxon signed-rank test\n",
    "    result = stats.wilcoxon(oddball_data, control_data, zero_method='wilcox', correction=True)\n",
    "    w_statistic = result.statistic\n",
    "    pval = result.pvalue\n",
    "\n",
    "    # Calculate the rank-biserial correlation (effect size)\n",
    "    diff = oddball_data - control_data\n",
    "    n_pos = np.sum(diff > 0)\n",
    "    n_neg = np.sum(diff < 0)\n",
    "    n = n_pos + n_neg\n",
    "    rank_biserial_correlation = (n_pos - n_neg) / n\n",
    "\n",
    "    # Prepare the result dictionary\n",
    "    results = {\n",
    "        'W': w_statistic,\n",
    "        'p_value': pval,\n",
    "        'rank_biserial_correlation': rank_biserial_correlation\n",
    "    }\n",
    "\n",
    "    # Print the results in a readable format\n",
    "    print(f'Paired Wilcoxon W= {w_statistic:.2f}, p= {pval:.4f}, rank-biserial correlation (r_rb)= {rank_biserial_correlation:.4f}')\n",
    "    \n",
    "    return results\n"
   ]
  },
  {
   "cell_type": "code",
   "execution_count": 5,
   "metadata": {},
   "outputs": [],
   "source": [
    "roi =['7Z']"
   ]
  },
  {
   "cell_type": "code",
   "execution_count": 6,
   "metadata": {},
   "outputs": [],
   "source": [
    "#plot evokeds at 0.9 CI\n",
    "analysis.processing.getERP(evokeds, roi = roi, ci = 0.95, invert = True)"
   ]
  },
  {
   "cell_type": "code",
   "execution_count": 58,
   "metadata": {},
   "outputs": [],
   "source": [
    "#plot evokeds at 0.95 CI\n",
    "analysis.processing.getERP(evokeds, roi = roi, ci = 0.95, invert = True, vlines = [0.0])"
   ]
  },
  {
   "cell_type": "code",
   "execution_count": 13,
   "metadata": {},
   "outputs": [],
   "source": [
    "diff_waves = []\n",
    "for i in range(len(oddball_list)):\n",
    "    diff_waves.append(mne.combine_evoked([oddball_list[i], control_list[i]], weights=[-1, 1]))"
   ]
  },
  {
   "cell_type": "code",
   "execution_count": 14,
   "metadata": {},
   "outputs": [
    {
     "name": "stdout",
     "output_type": "stream",
     "text": [
      "Ttest_1sampResult(statistic=array([-9.53950155]), pvalue=array([7.6738854e-15]))\n",
      "P300 t( df = 81)=  -9.54 p =  0.0\n"
     ]
    }
   ],
   "source": [
    "import numpy as np\n",
    "evoked_data = np.array([ [np.mean(np.mean(e.get_data(picks=roi, tmin= 0.3277, tmax= 0.5), axis=1), axis=0)] for e in diff_waves])\n",
    "from scipy import stats \n",
    "\n",
    "result = stats.ttest_1samp(evoked_data, 0)\n",
    "t =  result.statistic\n",
    "print(result)\n",
    "pval = result.pvalue\n",
    "# df = result.df\n",
    "# print('t( df = ', str(round(df[0], 2)) ,')= ', str(round(t[0], 2)), 'p = ', str(round(pval[0], 4)))\n",
    "print('P300 t( df = 81)= ', str(round(t[0], 2)), 'p = ', str(round(pval[0], 4)))"
   ]
  },
  {
   "cell_type": "code",
   "execution_count": 17,
   "metadata": {},
   "outputs": [
    {
     "name": "stdout",
     "output_type": "stream",
     "text": [
      "Paired Wilcoxon W= 244.00, p= 0.0000, rank-biserial correlation (r_rb)= 0.6790\n"
     ]
    },
    {
     "data": {
      "text/plain": [
       "{'W': 244.0,\n",
       " 'p_value': 2.612166677600553e-11,\n",
       " 'rank_biserial_correlation': 0.6790123456790124}"
      ]
     },
     "execution_count": 17,
     "metadata": {},
     "output_type": "execute_result"
    }
   ],
   "source": [
    "# wilkoxon \n",
    "compute_paired_wilcoxon_rank_biserial(oddball_list, control_list, roi, tmin=0.3277, tmax=0.5)"
   ]
  },
  {
   "cell_type": "code",
   "execution_count": 71,
   "metadata": {},
   "outputs": [
    {
     "name": "stdout",
     "output_type": "stream",
     "text": [
      "Ttest_1sampResult(statistic=array([2.71219225]), pvalue=array([0.00817983]))\n",
      " N200 t( df = 81)=  2.71 p =  0.0082\n"
     ]
    }
   ],
   "source": [
    "import numpy as np\n",
    "evoked_data = np.array([ [np.mean(np.mean(e.get_data(picks=roi, tmin=.2772, tmax=.3202), axis=1), axis=0)] for e in diff_waves])\n",
    "from scipy import stats \n",
    "\n",
    "result = stats.ttest_1samp(evoked_data, 0)\n",
    "t =  result.statistic\n",
    "print(result)\n",
    "pval = result.pvalue\n",
    "# df = result.df\n",
    "# print('t( df = ', str(round(df[0], 2)) ,')= ', str(round(t[0], 2)), 'p = ', str(round(pval[0], 4)))\n",
    "print(' N200 t( df = 81)= ', str(round(t[0], 2)), 'p = ', str(round(pval[0], 4)))"
   ]
  },
  {
   "cell_type": "code",
   "execution_count": 18,
   "metadata": {},
   "outputs": [
    {
     "name": "stdout",
     "output_type": "stream",
     "text": [
      "Paired Wilcoxon W= 1166.00, p= 0.0200, rank-biserial correlation (r_rb)= -0.2346\n"
     ]
    },
    {
     "data": {
      "text/plain": [
       "{'W': 1166.0,\n",
       " 'p_value': 0.020024373791233223,\n",
       " 'rank_biserial_correlation': -0.2345679012345679}"
      ]
     },
     "execution_count": 18,
     "metadata": {},
     "output_type": "execute_result"
    }
   ],
   "source": [
    "# wilkoxon \n",
    "compute_paired_wilcoxon_rank_biserial(oddball_list, control_list, roi, tmin=.2772, tmax=.3202)"
   ]
  },
  {
   "cell_type": "code",
   "execution_count": 7,
   "metadata": {},
   "outputs": [],
   "source": [
    "#plot evokeds at 0.9 CI\n",
    "analysis.processing.getERP(evokeds, roi = ['1Z'], ci = 0.95, invert = True, vlines=[0.0])"
   ]
  },
  {
   "cell_type": "code",
   "execution_count": 60,
   "metadata": {},
   "outputs": [],
   "source": [
    "import matplotlib.pyplot as plt\n",
    "roi = ['7Z']\n",
    "invert = True\n",
    "\n",
    "contrast = 'Oddball - Control'\n",
    "fig, ax = plt.subplots()\n",
    "mne.viz.plot_compare_evokeds({contrast:diff_waves},\n",
    "                            legend=None, title=contrast,\n",
    "                             picks=roi, ci =0.8, axes= ax ,vlines = [0.0, 0.3070,0.4177]\n",
    "                            )\n",
    "if(invert): \n",
    "    ax.invert_yaxis()\n",
    "    \n",
    "# ax.set_ylabel(\"V\")\n",
    "plt.show()"
   ]
  },
  {
   "cell_type": "code",
   "execution_count": 81,
   "metadata": {},
   "outputs": [],
   "source": [
    "import matplotlib.pyplot as plt\n",
    "roi = ['1Z']\n",
    "invert = True\n",
    "\n",
    "contrast = 'Oddball - Control'\n",
    "fig, ax = plt.subplots()\n",
    "mne.viz.plot_compare_evokeds({contrast:diff_waves},\n",
    "                            legend=None, title=contrast,\n",
    "                             picks=roi, ci =0.8, axes= ax ,vlines = [0.0, 0.3419]\n",
    "                            )\n",
    "if(invert): \n",
    "    ax.invert_yaxis()\n",
    "    \n",
    "# ax.set_ylabel(\"V\")\n",
    "plt.show()"
   ]
  },
  {
   "cell_type": "code",
   "execution_count": 19,
   "metadata": {},
   "outputs": [
    {
     "name": "stdout",
     "output_type": "stream",
     "text": [
      "Ttest_1sampResult(statistic=array([2.43574959]), pvalue=array([0.01708381]))\n",
      " N200 t( df = 81)=  2.44 p =  0.0171\n"
     ]
    }
   ],
   "source": [
    "import numpy as np\n",
    "evoked_data = np.array([ [np.mean(np.mean(e.get_data(picks=['1Z'], tmin=.3, tmax=.36), axis=1), axis=0)] for e in diff_waves])\n",
    "from scipy import stats \n",
    "\n",
    "result = stats.ttest_1samp(evoked_data, 0)\n",
    "t =  result.statistic\n",
    "print(result)\n",
    "pval = result.pvalue\n",
    "# df = result.df\n",
    "# print('t( df = ', str(round(df[0], 2)) ,')= ', str(round(t[0], 2)), 'p = ', str(round(pval[0], 4)))\n",
    "print(' N200 t( df = 81)= ', str(round(t[0], 2)), 'p = ', str(round(pval[0], 4)))"
   ]
  },
  {
   "cell_type": "code",
   "execution_count": 34,
   "metadata": {},
   "outputs": [
    {
     "name": "stdout",
     "output_type": "stream",
     "text": [
      "Paired Wilcoxon W= 1205.00, p= 0.0322, rank-biserial correlation (r_rb)= -0.1852\n"
     ]
    },
    {
     "data": {
      "text/plain": [
       "{'W': 1205.0,\n",
       " 'p_value': 0.0321719306124718,\n",
       " 'rank_biserial_correlation': -0.18518518518518517}"
      ]
     },
     "execution_count": 34,
     "metadata": {},
     "output_type": "execute_result"
    }
   ],
   "source": [
    "# wilkoxon \n",
    "compute_paired_wilcoxon_rank_biserial(oddball_list, control_list, ['1Z'],  tmin=.3, tmax=.36)"
   ]
  },
  {
   "cell_type": "code",
   "execution_count": 8,
   "metadata": {},
   "outputs": [],
   "source": [
    "import numpy as np\n",
    "evooddballs =evokeds['oddball']\n",
    "evoodcontrol =evokeds['control']\n",
    "info = evooddballs[0].info\n",
    "\n",
    "# raw = raw.apply_function(lambda x: x * 1e6)\n",
    "\n",
    "evo_oddball_data_list_array = np.array([ ob.get_data() * 1e6 for ob in evooddballs])\n",
    "evo_control_data_list_array = np.array([ ob.get_data() * 1e6 for ob in evoodcontrol])\n",
    "\n",
    "ob_evoked_array = mne.EvokedArray(\n",
    "    np.mean(evo_oddball_data_list_array, 0), info, tmin=-0.2, nave=evo_oddball_data_list_array.shape[0], comment=\"odd balls\"\n",
    ")\n",
    "\n",
    "control_evoked_array = mne.EvokedArray(\n",
    "    np.mean(evo_control_data_list_array, 0), info, tmin=-0.2, nave=evo_control_data_list_array.shape[0], comment=\"odd balls\"\n",
    ")\n",
    "times = np.arange(-0.05, 0.6, 0.05)\n"
   ]
  },
  {
   "cell_type": "code",
   "execution_count": 12,
   "metadata": {},
   "outputs": [],
   "source": [
    "ob_evoked_array.plot_topomap(times, ch_type=\"eeg\", vlim= (-7.5, 7.5))\n",
    "# Save the figure to a PDF file\n",
    "plt.savefig('v_o_topo_ob.pdf', format='pdf', bbox_inches='tight')"
   ]
  },
  {
   "cell_type": "code",
   "execution_count": 13,
   "metadata": {},
   "outputs": [],
   "source": [
    "control_evoked_array.plot_topomap(times, ch_type=\"eeg\", vlim= (-7.5, 7.5))\n",
    "plt.savefig('v_o_topo_control.pdf', format='pdf', bbox_inches='tight')"
   ]
  },
  {
   "cell_type": "code",
   "execution_count": 8,
   "metadata": {},
   "outputs": [
    {
     "name": "stderr",
     "output_type": "stream",
     "text": [
      "MovieWriter ffmpeg unavailable; using Pillow instead.\n"
     ]
    }
   ],
   "source": [
    "import matplotlib.animation as animation \n",
    "writervideo = animation.FFMpegWriter(fps=60) \n",
    "\n",
    "times = np.arange(-0.05, 0.6, 0.01)\n",
    "fig, anim = ob_evoked_array.animate_topomap(times=times, ch_type=\"eeg\", frame_rate= 8, blit=False, vmin =-7.5, vmax= 7.5, butterfly= True)\n",
    "# anim.save('ob_evoked_topo.gif', writer=\"ffmpeg\") "
   ]
  },
  {
   "cell_type": "code",
   "execution_count": 9,
   "metadata": {},
   "outputs": [
    {
     "name": "stderr",
     "output_type": "stream",
     "text": [
      "MovieWriter ffmpeg unavailable; using Pillow instead.\n"
     ]
    }
   ],
   "source": [
    "fig, anim = control_evoked_array.animate_topomap(times=times, ch_type=\"eeg\", frame_rate= 8, blit=False, vmin =-7.5, vmax= 7.5, butterfly= True)\n",
    "# anim.save('control_evoked_topo.gif', writer=\"ffmpeg\") "
   ]
  },
  {
   "cell_type": "code",
   "execution_count": 42,
   "metadata": {},
   "outputs": [],
   "source": [
    "def plotSpectrogram(chan_list):\n",
    "        # Pick a time frequency region \n",
    "    # shape (5, 2, 96, 163)\n",
    "\n",
    "    picks = chan_list\n",
    "\n",
    "    chan_indexes =  [ch_names.index(item) for item in chan_list]\n",
    "\n",
    "\n",
    "    spectrogram_control = np.mean(np.mean(control_tfr_array[:,chan_indexes, : ,:], axis = 1), axis = 0)\n",
    "    spectrogram_oddball =  np.mean(np.mean(oddball_tfr_array[:,chan_indexes, : ,:], axis = 1), axis = 0)\n",
    "\n",
    "    times = 1e3 * tfr_times  # change unit to ms\n",
    "\n",
    "\n",
    "    fig, (ax, ax2, ax3) = plt.subplots(3, 1)\n",
    "\n",
    "    ax.imshow(spectrogram_control,\n",
    "            extent=[times[0], times[-1], tfr_freqs[0], tfr_freqs[-1]],\n",
    "            aspect='auto', origin='lower')\n",
    "\n",
    "    ax.set_xlabel('Time (ms)')\n",
    "    ax.set_ylabel('Frequency (Hz)')\n",
    "    ax.set_title(f'Spectrogram control '+  str(picks))\n",
    "\n",
    "    ax2.imshow(spectrogram_oddball,\n",
    "            extent=[times[0], times[-1], tfr_freqs[0], tfr_freqs[-1]],\n",
    "            aspect='auto', origin='lower')\n",
    "\n",
    "    ax2.set_xlabel('Time (ms)')\n",
    "    ax2.set_ylabel('Frequency (Hz)')\n",
    "    ax2.set_title(f'Spectrogram odd ' +  str(picks))\n",
    "\n",
    "\n",
    "    c = ax3.imshow(spectrogram_oddball - spectrogram_control,\n",
    "            extent=[times[0], times[-1], tfr_freqs[0], tfr_freqs[-1]],\n",
    "            aspect='auto', origin='lower')\n",
    "\n",
    "\n",
    "    ax3.set_xlabel('Time (ms)')\n",
    "    ax3.set_ylabel('Frequency (Hz)')\n",
    "    ax3.set_title(f'Spectrogram odd - control ' + str(picks))\n",
    "\n",
    "    # Create a new axis for the colorbar\n",
    "    cbar_ax = fig.add_axes([0.15, 0.05, 0.7, 0.03])  # [left, bottom, width, height]\n",
    "    plt.colorbar(c, cax=cbar_ax, orientation='horizontal', label=\"Relative Power\")\n",
    "   \n",
    "    # Adjust the spacing between subplots\n",
    "    plt.subplots_adjust(hspace=0.5)  # hspace can be adjusted for more or less space\n",
    "\n",
    "\n",
    "    plt.show()\n",
    "\n",
    "    return spectrogram_control, spectrogram_oddball"
   ]
  },
  {
   "cell_type": "code",
   "execution_count": 43,
   "metadata": {},
   "outputs": [],
   "source": [
    "\n",
    "def plotRoI(spectrogram_oddball, spectrogram_control, time_roi = [], freq_roi = [], chan_list = []):\n",
    "\n",
    "    picks = chan_list\n",
    "\n",
    "    # Pick a time frequency region \n",
    "    # shape (5, 2, 96, 163)\n",
    "    diff = spectrogram_oddball - spectrogram_control\n",
    "    times = 1e3 * tfr_times  # change unit to ms\n",
    "\n",
    "\n",
    "    # Create figure and axes\n",
    "    fig, ax = plt.subplots()\n",
    "\n",
    "    c =  ax.imshow(diff, extent=[times[0], times[-1], freqs[0], freqs[-1]],\n",
    "            aspect='auto', origin='lower')\n",
    "\n",
    "    for index, (time_range, freq_range) in  enumerate(zip(time_roi,freq_roi )):\n",
    "        rect = patches.Rectangle((time_range[0], freq_range[0]), (time_range[1] - time_range[0]), (freq_range[1] - freq_range[0]), linewidth=1, edgecolor='r', facecolor='none')\n",
    "        ax.text((time_range[0]+ time_range[1])/2, (freq_range[0]+ freq_range[1])/2, f'ROI {index +1}')\n",
    "        ax.add_patch(rect)\n",
    "\n",
    "    plt.colorbar(c, label = \"Relative power\")\n",
    "\n",
    "\n",
    "    plt.title('Oddball - Control for \"' + str(picks) + '\"',  fontweight =\"bold\")\n",
    "    plt.show()"
   ]
  },
  {
   "cell_type": "code",
   "execution_count": 49,
   "metadata": {},
   "outputs": [],
   "source": [
    "# get indexes of the interested regions \n",
    "def getIndexArrayOfArray ( main_array, value_list, divisor):\n",
    "    index_list =[]\n",
    "    for val in value_list:\n",
    "        idx = np.argmin( np.abs(main_array - (val / divisor)))\n",
    "        index_list.append(idx)\n",
    "    return index_list"
   ]
  },
  {
   "cell_type": "code",
   "execution_count": 44,
   "metadata": {},
   "outputs": [],
   "source": [
    "def getROIDataFrame ( time1idx, freq1idx, time2idx = None, freq2idx = None, chan_list = [] ):\n",
    "\n",
    "    chan_indexes =  [ch_names.index(item) for item in chan_list]\n",
    "\n",
    "    if((time2idx is not None) and (freq2idx is not None)):\n",
    "        labels = [ 'ROI-1 Control','ROI-1 Odd','ROI-2 Control','ROI-2 Odd' ]\n",
    "        data = np.zeros((4,oddball_tfr_array.shape[0]));\n",
    "\n",
    "        # resultMat shape (5, 2, 96, 163)\n",
    "        # np.mean(resultMat, axis=1)\n",
    "\n",
    "\n",
    "        data[0,:] =  np.mean(np.mean(np.mean(control_tfr_array[:,chan_indexes, freq1idx[0]:freq1idx[1], time1idx[0]: time1idx[1]], axis = 3), axis = 2), axis =1)\n",
    "        data[1,:] =  np.mean(np.mean(np.mean(oddball_tfr_array[:,chan_indexes, freq1idx[0]:freq1idx[1], time1idx[0]: time1idx[1]], axis = 3), axis = 2), axis =1)\n",
    "\n",
    "        data[2,:] =  np.mean(np.mean(np.mean(control_tfr_array[:,chan_indexes, freq2idx[0]:freq2idx[1], time2idx[0]: time2idx[1]], axis = 3), axis = 2), axis =1)\n",
    "        data[3,:] =  np.mean(np.mean(np.mean(oddball_tfr_array[:,chan_indexes, freq2idx[0]:freq2idx[1], time2idx[0]: time2idx[1]], axis = 3), axis = 2), axis =1)\n",
    "\n",
    "    else:\n",
    "        labels = [ 'ROI-1 Control','ROI-1 Odd'];\n",
    "        data = np.zeros((2,oddball_tfr_array.shape[0]));\n",
    "\n",
    "        # resultMat shape (5, 2, 96, 163)\n",
    "        # np.mean(resultMat, axis=1)\n",
    "\n",
    "\n",
    "        data[0,:] =  np.mean(np.mean(np.mean(control_tfr_array[:,chan_indexes, freq1idx[0]:freq1idx[1], time1idx[0]: time1idx[1]], axis = 3), axis = 2), axis =1)\n",
    "        data[1,:] =  np.mean(np.mean(np.mean(oddball_tfr_array[:,chan_indexes, freq1idx[0]:freq1idx[1], time1idx[0]: time1idx[1]], axis = 3), axis = 2), axis =1)\n",
    "\n",
    "\n",
    "    return data, labels"
   ]
  },
  {
   "cell_type": "code",
   "execution_count": 45,
   "metadata": {},
   "outputs": [],
   "source": [
    "from scipy import stats\n",
    "import numpy as np\n",
    "\n",
    "def getRoIstats(data, labels):\n",
    "\n",
    "    d_mean = np.mean(data, axis= 1)\n",
    "    d_std = np.std(data, axis= 1)\n",
    "\n",
    "    x_pos = np.arange(len(labels))\n",
    "\n",
    "    datai = data\n",
    "\n",
    "    for col in range(datai.shape[1] -1, -1, -1):\n",
    "        variance_per_subjecti =  np.abs(datai[:,col] - d_mean)\n",
    "        dist_from_2stds =  variance_per_subjecti - 2 * d_std\n",
    "        # print(dist_from_2stds)\n",
    "        for val in dist_from_2stds:\n",
    "            if(val> 0):\n",
    "                datai = np.delete(datai,(col), axis=1)\n",
    "                # print(\"deleted\")\n",
    "                break;\n",
    "\n",
    "    d_mean = np.mean(datai, axis= 1)\n",
    "    d_std = np.std(datai, axis= 1) \n",
    "    n = datai.shape[1]\n",
    "    yerr = d_std / np.sqrt(n) * stats.t.ppf(1-0.05/2, n - 1)   \n",
    "\n",
    "\n",
    "    if datai.shape[0] > 2:\n",
    "        print(\"T-test for the ROI 1\")\n",
    "        result_roi_1 = stats.ttest_ind(datai[0,:], datai[1,:])\n",
    "        print(\"T-statistic: \"+ str(result_roi_1.statistic))    \n",
    "        print(\"P - Val : \"+ str(result_roi_1.pvalue))\n",
    "\n",
    "\n",
    "        print(\"T-test for the ROI 2\")\n",
    "        result_roi_1 = stats.ttest_ind(datai[2,:], datai[3,:])\n",
    "        print(\"T-statistic: \"+ str(result_roi_1.statistic))  \n",
    "        print(\"P - Val : \"+ str(result_roi_1.pvalue))\n",
    "\n",
    "    else:\n",
    "        print(\"T-test for the ROI 1\")\n",
    "        result_roi_1 = stats.ttest_ind(datai[0,:], datai[1,:])\n",
    "        print(\"T-statistic: \"+ str(result_roi_1.statistic)) \n",
    "        print(\"P - Val : \"+ str(result_roi_1.pvalue))    \n",
    "        \n",
    "\n",
    "    # Build the plot\n",
    "    fig, ax = plt.subplots()\n",
    "    ax.bar(x_pos, d_mean, yerr=yerr, align='center', alpha=0.5, ecolor='black', capsize=10)\n",
    "    ax.set_ylabel('Relative power')\n",
    "    ax.set_xticks(x_pos)\n",
    "    ax.set_xticklabels(labels)\n",
    "    ax.set_title('Conditional power for each ROI')\n",
    "    ax.yaxis.grid(True)\n",
    "\n",
    "    # Save the figure and show\n",
    "    plt.tight_layout()\n",
    "    # plt.savefig('bar_plot_with_error_bars.png')\n",
    "    plt.show()\n"
   ]
  },
  {
   "cell_type": "code",
   "execution_count": 46,
   "metadata": {},
   "outputs": [],
   "source": [
    "from scipy import stats\n",
    "import numpy as np\n",
    "import matplotlib.pyplot as plt\n",
    "\n",
    "def getRoIstats_wilcoxon(data, labels):\n",
    "    \"\"\"\n",
    "    Computes Wilcoxon signed-rank tests and rank-biserial correlation for paired ROIs, \n",
    "    along with plotting conditional power for each ROI.\n",
    "    \n",
    "    Parameters:\n",
    "    - data: A 2D numpy array where each row represents an ROI and each column represents a subject's data.\n",
    "    - labels: A list of labels corresponding to the ROIs.\n",
    "    \n",
    "    Returns:\n",
    "    - None (prints the test results and displays a bar plot)\n",
    "    \"\"\"\n",
    "    # Calculate mean and standard deviation for each ROI\n",
    "    d_mean = np.mean(data, axis=1)\n",
    "    d_std = np.std(data, axis=1)\n",
    "\n",
    "    # Prepare indices for x-axis positions of the bars\n",
    "    x_pos = np.arange(len(labels))\n",
    "\n",
    "    # Clean the data by removing outliers (values more than 2 standard deviations away)\n",
    "    datai = data.copy()\n",
    "    for col in range(datai.shape[1] - 1, -1, -1):\n",
    "        variance_per_subjecti = np.abs(datai[:, col] - d_mean)\n",
    "        dist_from_2stds = variance_per_subjecti - 2 * d_std\n",
    "        if np.any(dist_from_2stds > 0):\n",
    "            datai = np.delete(datai, col, axis=1)\n",
    "\n",
    "    # Recompute mean, std, and standard error after outlier removal\n",
    "    d_mean = np.mean(datai, axis=1)\n",
    "    d_std = np.std(datai, axis=1)\n",
    "    n = datai.shape[1]\n",
    "    yerr = d_std / np.sqrt(n) * stats.t.ppf(1 - 0.05 / 2, n - 1)\n",
    "\n",
    "    # Perform Wilcoxon signed-rank tests if we have more than two ROIs\n",
    "    if datai.shape[0] > 2:\n",
    "        print(\"Wilcoxon test for the ROI 1\")\n",
    "        result_roi_1 = stats.wilcoxon(datai[0, :], datai[1, :], zero_method='wilcox', correction=True)\n",
    "        rank_biserial_1 = (np.sum(datai[0, :] > datai[1, :]) - np.sum(datai[0, :] < datai[1, :])) / n\n",
    "        print(f\"Wilcoxon W= {result_roi_1.statistic:.2f}, p= {result_roi_1.pvalue:.4f}, rank-biserial correlation= {rank_biserial_1:.4f}\")\n",
    "\n",
    "        print(\"Wilcoxon test for the ROI 2\")\n",
    "        result_roi_2 = stats.wilcoxon(datai[2, :], datai[3, :], zero_method='wilcox', correction=True)\n",
    "        rank_biserial_2 = (np.sum(datai[2, :] > datai[3, :]) - np.sum(datai[2, :] < datai[3, :])) / n\n",
    "        print(f\"Wilcoxon W= {result_roi_2.statistic:.2f}, p= {result_roi_2.pvalue:.4f}, rank-biserial correlation= {rank_biserial_2:.4f}\")\n",
    "    else:\n",
    "        print(\"Wilcoxon test for the ROI 1\")\n",
    "        result_roi_1 = stats.wilcoxon(datai[0, :], datai[1, :], zero_method='wilcox', correction=True)\n",
    "        rank_biserial_1 = (np.sum(datai[0, :] > datai[1, :]) - np.sum(datai[0, :] < datai[1, :])) / n\n",
    "        print(f\"Wilcoxon W= {result_roi_1.statistic:.2f}, p= {result_roi_1.pvalue:.4f}, rank-biserial correlation= {rank_biserial_1:.4f}\")\n",
    "\n",
    "    # Build the plot\n",
    "    fig, ax = plt.subplots()\n",
    "    ax.bar(x_pos, d_mean, yerr=yerr, align='center', alpha=0.5, ecolor='black', capsize=10)\n",
    "    ax.set_ylabel('Relative power')\n",
    "    ax.set_xticks(x_pos)\n",
    "    ax.set_xticklabels(labels)\n",
    "    ax.set_title('Conditional power for each ROI')\n",
    "    ax.yaxis.grid(True)\n",
    "\n",
    "    # Show the plot\n",
    "    plt.tight_layout()\n",
    "    plt.show()\n"
   ]
  },
  {
   "cell_type": "code",
   "execution_count": 55,
   "metadata": {},
   "outputs": [
    {
     "name": "stdout",
     "output_type": "stream",
     "text": [
      "T-test for the ROI 1\n",
      "T-statistic: -6.071594222676712\n",
      "P - Val : 9.932626946464812e-09\n",
      "T-test for the ROI 2\n",
      "T-statistic: -5.245366995197791\n",
      "P - Val : 5.224430867524854e-07\n"
     ]
    }
   ],
   "source": [
    "chan_list = ['7Z']\n",
    "spectrogram_control, spectrogram_oddball = plotSpectrogram(chan_list)\n",
    "time_roi = [[250, 384], [445, 532]]\n",
    "freq_roi = [[2, 6], [2, 4]] \n",
    "plotRoI(spectrogram_oddball, spectrogram_control, time_roi, freq_roi, chan_list)\n",
    "\n",
    "time1idx = getIndexArrayOfArray(tfr_times, time_roi[0], 1e3)\n",
    "time2idx = None\n",
    "if(len(time_roi) > 1): \n",
    "    time2idx = getIndexArrayOfArray(tfr_times, time_roi[1], 1e3) \n",
    "\n",
    "freq1idx = getIndexArrayOfArray(tfr_freqs, freq_roi[0], 1)\n",
    "freq2idx = None\n",
    "if(len(freq_roi) > 1):  \n",
    "    freq2idx = getIndexArrayOfArray(tfr_freqs, freq_roi[1], 1) \n",
    "\n",
    "data, labels = getROIDataFrame (time1idx,freq1idx, time2idx, freq2idx, chan_list )\n",
    "getRoIstats(data, labels)"
   ]
  },
  {
   "cell_type": "code",
   "execution_count": 51,
   "metadata": {},
   "outputs": [
    {
     "name": "stdout",
     "output_type": "stream",
     "text": [
      "Wilcoxon test for the ROI 1\n",
      "Wilcoxon W= 439.00, p= 0.0000, rank-biserial correlation= -0.6053\n",
      "Wilcoxon test for the ROI 2\n",
      "Wilcoxon W= 528.00, p= 0.0000, rank-biserial correlation= -0.5263\n"
     ]
    }
   ],
   "source": [
    "getRoIstats_wilcoxon(data, labels)"
   ]
  },
  {
   "cell_type": "code",
   "execution_count": 56,
   "metadata": {},
   "outputs": [
    {
     "name": "stdout",
     "output_type": "stream",
     "text": [
      "T-test for the ROI 1\n",
      "T-statistic: -5.190994581993983\n",
      "P - Val : 6.791986709680032e-07\n"
     ]
    }
   ],
   "source": [
    "chan_list = ['1Z']\n",
    "spectrogram_control, spectrogram_oddball = plotSpectrogram(chan_list)\n",
    "time_roi = [[275, 398]]\n",
    "freq_roi = [[3.9, 8]] \n",
    "plotRoI(spectrogram_oddball, spectrogram_control, time_roi, freq_roi, chan_list)\n",
    "\n",
    "time1idx = getIndexArrayOfArray(tfr_times, time_roi[0], 1e3)\n",
    "time2idx = None\n",
    "if(len(time_roi) > 1): \n",
    "    time2idx = getIndexArrayOfArray(tfr_times, time_roi[1], 1e3) \n",
    "\n",
    "freq1idx = getIndexArrayOfArray(tfr_freqs, freq_roi[0], 1)\n",
    "freq2idx = None\n",
    "if(len(freq_roi) > 1):  \n",
    "    freq2idx = getIndexArrayOfArray(tfr_freqs, freq_roi[1], 1) \n",
    "\n",
    "data, labels = getROIDataFrame (time1idx,freq1idx, time2idx, freq2idx, chan_list )\n",
    "getRoIstats(data, labels)"
   ]
  },
  {
   "cell_type": "code",
   "execution_count": 53,
   "metadata": {},
   "outputs": [
    {
     "name": "stdout",
     "output_type": "stream",
     "text": [
      "Wilcoxon test for the ROI 1\n",
      "Wilcoxon W= 618.00, p= 0.0000, rank-biserial correlation= -0.3867\n"
     ]
    }
   ],
   "source": [
    "getRoIstats_wilcoxon(data, labels)"
   ]
  },
  {
   "cell_type": "code",
   "execution_count": 54,
   "metadata": {},
   "outputs": [
    {
     "name": "stdout",
     "output_type": "stream",
     "text": [
      "T-test for the ROI 1\n",
      "T-statistic: -5.120239856837816\n",
      "P - Val : 9.483201885913527e-07\n"
     ]
    }
   ],
   "source": [
    "# frontal \n",
    "chan_list = ['1L', '1R','1Z','1LC', '1LB', '2L', '2R', '1RB', '1RC']\n",
    "spectrogram_control, spectrogram_oddball = plotSpectrogram(chan_list)\n",
    "time_roi = [[275, 398]]\n",
    "freq_roi = [[3.9, 8]] \n",
    "plotRoI(spectrogram_oddball, spectrogram_control, time_roi, freq_roi, chan_list)\n",
    "\n",
    "time1idx = getIndexArrayOfArray(tfr_times, time_roi[0], 1e3)\n",
    "time2idx = None\n",
    "if(len(time_roi) > 1): \n",
    "    time2idx = getIndexArrayOfArray(tfr_times, time_roi[1], 1e3) \n",
    "\n",
    "freq1idx = getIndexArrayOfArray(tfr_freqs, freq_roi[0], 1)\n",
    "freq2idx = None\n",
    "if(len(freq_roi) > 1):  \n",
    "    freq2idx = getIndexArrayOfArray(tfr_freqs, freq_roi[1], 1) \n",
    "\n",
    "data, labels = getROIDataFrame (time1idx,freq1idx, time2idx, freq2idx, chan_list )\n",
    "getRoIstats(data, labels)"
   ]
  },
  {
   "cell_type": "code",
   "execution_count": 16,
   "metadata": {},
   "outputs": [
    {
     "name": "stdout",
     "output_type": "stream",
     "text": [
      "T-test for the ROI 1\n",
      "T-statistic: -3.5879671144103233\n",
      "P - Val : 0.00045054541784070545\n"
     ]
    }
   ],
   "source": [
    "# occipital  \n",
    "chan_list = ['10L', '9Z','10R', '9L', '8Z', '9R']\n",
    "spectrogram_control, spectrogram_oddball = plotSpectrogram(chan_list)\n",
    "time_roi = [[275, 398]]\n",
    "freq_roi = [[3.9, 8]] \n",
    "plotRoI(spectrogram_oddball, spectrogram_control, time_roi, freq_roi, chan_list)\n",
    "\n",
    "time1idx = getIndexArrayOfArray(tfr_times, time_roi[0], 1e3)\n",
    "time2idx = None\n",
    "if(len(time_roi) > 1): \n",
    "    time2idx = getIndexArrayOfArray(tfr_times, time_roi[1], 1e3) \n",
    "\n",
    "freq1idx = getIndexArrayOfArray(tfr_freqs, freq_roi[0], 1)\n",
    "freq2idx = None\n",
    "if(len(freq_roi) > 1):  \n",
    "    freq2idx = getIndexArrayOfArray(tfr_freqs, freq_roi[1], 1) \n",
    "\n",
    "data, labels = getROIDataFrame (time1idx,freq1idx, time2idx, freq2idx, chan_list )\n",
    "getRoIstats(data, labels)\n"
   ]
  },
  {
   "cell_type": "code",
   "execution_count": 110,
   "metadata": {},
   "outputs": [
    {
     "name": "stdout",
     "output_type": "stream",
     "text": [
      "T-test for the ROI 1\n",
      "T-statistic: -3.556623359443203\n",
      "P - Val : 0.000508897271797458\n"
     ]
    }
   ],
   "source": [
    "# left  \n",
    "chan_list = ['3LB', '3LC','2LB', '1LA', '2LA', '2LC']\n",
    "spectrogram_control, spectrogram_oddball = plotSpectrogram(chan_list)\n",
    "time_roi = [[275, 398]]\n",
    "freq_roi = [[3.9, 8]] \n",
    "plotRoI(spectrogram_oddball, spectrogram_control, time_roi, freq_roi, chan_list)\n",
    "\n",
    "time1idx = getIndexArrayOfArray(tfr_times, time_roi[0], 1e3)\n",
    "time2idx = None\n",
    "if(len(time_roi) > 1): \n",
    "    time2idx = getIndexArrayOfArray(tfr_times, time_roi[1], 1e3) \n",
    "\n",
    "freq1idx = getIndexArrayOfArray(tfr_freqs, freq_roi[0], 1)\n",
    "freq2idx = None\n",
    "if(len(freq_roi) > 1):  \n",
    "    freq2idx = getIndexArrayOfArray(tfr_freqs, freq_roi[1], 1) \n",
    "\n",
    "data, labels = getROIDataFrame (time1idx,freq1idx, time2idx, freq2idx, chan_list )\n",
    "getRoIstats(data, labels)"
   ]
  },
  {
   "cell_type": "code",
   "execution_count": 111,
   "metadata": {},
   "outputs": [
    {
     "name": "stdout",
     "output_type": "stream",
     "text": [
      "T-test for the ROI 1\n",
      "T-statistic: -3.9863366445905717\n",
      "P - Val : 0.0001050429047102989\n"
     ]
    }
   ],
   "source": [
    "# right  \n",
    "chan_list =  ['3RB', '3RC','2RB', '1RA', '2RA', '2RC']\n",
    "spectrogram_control, spectrogram_oddball = plotSpectrogram(chan_list)\n",
    "time_roi = [[275, 398]]\n",
    "freq_roi = [[3.9, 8]] \n",
    "plotRoI(spectrogram_oddball, spectrogram_control, time_roi, freq_roi, chan_list)\n",
    "\n",
    "time1idx = getIndexArrayOfArray(tfr_times, time_roi[0], 1e3)\n",
    "time2idx = None\n",
    "if(len(time_roi) > 1): \n",
    "    time2idx = getIndexArrayOfArray(tfr_times, time_roi[1], 1e3) \n",
    "\n",
    "freq1idx = getIndexArrayOfArray(tfr_freqs, freq_roi[0], 1)\n",
    "freq2idx = None\n",
    "if(len(freq_roi) > 1):  \n",
    "    freq2idx = getIndexArrayOfArray(tfr_freqs, freq_roi[1], 1) \n",
    "\n",
    "data, labels = getROIDataFrame (time1idx,freq1idx, time2idx, freq2idx, chan_list )\n",
    "getRoIstats(data, labels)"
   ]
  }
 ],
 "metadata": {
  "kernelspec": {
   "display_name": "oddball-KYxTObZq-py3.8",
   "language": "python",
   "name": "python3"
  },
  "language_info": {
   "codemirror_mode": {
    "name": "ipython",
    "version": 3
   },
   "file_extension": ".py",
   "mimetype": "text/x-python",
   "name": "python",
   "nbconvert_exporter": "python",
   "pygments_lexer": "ipython3",
   "version": "3.9.12"
  }
 },
 "nbformat": 4,
 "nbformat_minor": 2
}

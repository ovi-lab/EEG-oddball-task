{
 "cells": [
  {
   "cell_type": "code",
   "execution_count": 3,
   "metadata": {},
   "outputs": [],
   "source": [
    "import mne\n",
    "import pandas as pd\n",
    "\n",
    "\n",
    "from config import Config\n",
    "configObj = Config()\n",
    "configss = configObj.getConfigSnapshot()\n"
   ]
  },
  {
   "cell_type": "code",
   "execution_count": null,
   "metadata": {},
   "outputs": [],
   "source": [
    "mne =  read()"
   ]
  },
  {
   "cell_type": "code",
   "execution_count": 10,
   "metadata": {},
   "outputs": [],
   "source": [
    "line  =  ' OVTK_StimulationId_ExperimentStart OVTK_StimulationId_ExperimentStart  0x00008001'"
   ]
  },
  {
   "cell_type": "code",
   "execution_count": 14,
   "metadata": {},
   "outputs": [
    {
     "data": {
      "text/plain": [
       "[' OVTK_StimulationId_ExperimentStart OVTK_StimulationId_ExperimentStart',\n",
       " '0x00008001']"
      ]
     },
     "execution_count": 14,
     "metadata": {},
     "output_type": "execute_result"
    }
   ],
   "source": [
    "line.split('  ')"
   ]
  },
  {
   "cell_type": "code",
   "execution_count": 16,
   "metadata": {},
   "outputs": [
    {
     "data": {
      "text/plain": [
       "[' OVTK_StimulationId_ExperimentStart OVTK_StimulationId_ExperimentStart',\n",
       " '0x00008001']"
      ]
     },
     "execution_count": 16,
     "metadata": {},
     "output_type": "execute_result"
    }
   ],
   "source": [
    "line.split('  ')"
   ]
  },
  {
   "cell_type": "code",
   "execution_count": 1,
   "metadata": {},
   "outputs": [],
   "source": [
    "import tools.helpers"
   ]
  },
  {
   "cell_type": "code",
   "execution_count": 2,
   "metadata": {},
   "outputs": [],
   "source": [
    "stimcodes = tools.helpers.getOVStimCodes()"
   ]
  },
  {
   "cell_type": "code",
   "execution_count": 5,
   "metadata": {},
   "outputs": [
    {
     "data": {
      "text/plain": [
       "'/Users/erangad/Documents/Research/oddball-task'"
      ]
     },
     "execution_count": 5,
     "metadata": {},
     "output_type": "execute_result"
    }
   ],
   "source": [
    "configss['root']"
   ]
  },
  {
   "cell_type": "code",
   "execution_count": 4,
   "metadata": {},
   "outputs": [],
   "source": [
    "import os\n",
    "from config import Config\n",
    "configObj = Config()\n",
    "configss = configObj.getConfigSnapshot()\n",
    "\n",
    "ovStimListPath = os.path.join(configss['root'],\n",
    "                                   configss['ov_stim_list_path'])\n",
    "ovStimCodes = {}\n",
    "with open(ovStimListPath) as file:\n",
    "        lines = file.readlines()\n",
    "        for line in lines:\n",
    "            val = line.split() \n",
    "            ovStimCodes[val[0].strip()] = int(val[2].strip(), base =16)\n",
    "\n",
    "if not len(ovStimCodes) == len(lines):\n",
    "        raise Exception (\n",
    "            \"The number of stimulation codes read from the stimulations \" +\n",
    "            \"file is not equal to the number of lines in that file.\"\n",
    "                         )                "
   ]
  }
 ],
 "metadata": {
  "kernelspec": {
   "display_name": "oddball-KYxTObZq-py3.8",
   "language": "python",
   "name": "python3"
  },
  "language_info": {
   "codemirror_mode": {
    "name": "ipython",
    "version": 3
   },
   "file_extension": ".py",
   "mimetype": "text/x-python",
   "name": "python",
   "nbconvert_exporter": "python",
   "pygments_lexer": "ipython3",
   "version": "3.9.12"
  }
 },
 "nbformat": 4,
 "nbformat_minor": 2
}

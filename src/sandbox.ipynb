{
 "cells": [
  {
   "cell_type": "code",
   "execution_count": 5,
   "metadata": {},
   "outputs": [],
   "source": [
    "import mne\n",
    "import pandas as pd\n",
    "import tools.helpers\n",
    "import os \n",
    "import numpy as np\n",
    "\n",
    "\n",
    "from config import Config\n",
    "configObj = Config()\n",
    "configss = configObj.getConfigSnapshot()\n"
   ]
  },
  {
   "cell_type": "code",
   "execution_count": 106,
   "metadata": {},
   "outputs": [
    {
     "name": "stdout",
     "output_type": "stream",
     "text": [
      "c:\\Users\\erang\\Desktop\\Oddball\\ov_experiment/scenarios/data\\P11/P11.gdf\n",
      "Extracting EDF parameters from c:\\Users\\erang\\Desktop\\Oddball\\ov_experiment\\scenarios\\data\\P11\\P11.gdf...\n",
      "GDF file detected\n",
      "Setting channel info structure...\n",
      "Could not determine channel type of the following channels, they will be set as EEG:\n",
      "1Z, 2Z, 3Z, 4Z, 6Z, 7Z, 8Z, 9Z, 1L, 2L, 3L, 4L, 5L, 6L, 7L, 8L, 9L, 10L, 11L, 1R, 2R, 3R, 4R, 5R, 6R, 7R, 8R, 9R, 10R, 11R, 1LA, 2LA, 3LA, 1LB, 2LB, 3LB, 4LB, 5LB, 1LC, 2LC, 3LC, 4LC, 5LC, 1LD, 2LD, 3LD, 4LD, 1RA, 2RA, 3RA, 1RB, 2RB, 3RB, 4RB, 5RB, 1RC, 2RC, 3RC, 4RC, 5RC, 1RD, 2RD, 3RD, 4RD, Tgt, SC\n",
      "Creating raw.info structure...\n",
      "Reading 0 ... 120319  =      0.000 ...   240.638 secs...\n"
     ]
    }
   ],
   "source": [
    "# read the raw file\n",
    "participant_id = 11\n",
    "participant_name = 'P' + str(participant_id)\n",
    "partipant_data_path =  participant_name + '/' + participant_name +'.gdf'\n",
    "path = os.path.join(configss['root'], configss['data_dir'] , partipant_data_path ) \n",
    "print(path)\n",
    "raw  = mne.io.read_raw_gdf(path, preload=True)\n",
    "\n",
    "# add filtering\n"
   ]
  },
  {
   "cell_type": "code",
   "execution_count": 3,
   "metadata": {},
   "outputs": [],
   "source": [
    "path = os.path.join(configss['root'], configss['electrode_layout_path'])"
   ]
  },
  {
   "cell_type": "code",
   "execution_count": 4,
   "metadata": {},
   "outputs": [
    {
     "ename": "ValueError",
     "evalue": "could not convert string to float: '1Z'",
     "output_type": "error",
     "traceback": [
      "\u001b[1;31m---------------------------------------------------------------------------\u001b[0m",
      "\u001b[1;31mValueError\u001b[0m                                Traceback (most recent call last)",
      "Cell \u001b[1;32mIn[4], line 1\u001b[0m\n\u001b[1;32m----> 1\u001b[0m neonatal_montage \u001b[38;5;241m=\u001b[39m \u001b[43mmne\u001b[49m\u001b[38;5;241;43m.\u001b[39;49m\u001b[43mchannels\u001b[49m\u001b[38;5;241;43m.\u001b[39;49m\u001b[43mread_custom_montage\u001b[49m\u001b[43m(\u001b[49m\u001b[43mpath\u001b[49m\u001b[43m)\u001b[49m\n",
      "File \u001b[1;32mc:\\Users\\erang\\AppData\\Local\\pypoetry\\Cache\\virtualenvs\\oddball-KYxTObZq-py3.8\\lib\\site-packages\\mne\\channels\\montage.py:1641\u001b[0m, in \u001b[0;36mread_custom_montage\u001b[1;34m(fname, head_size, coord_frame)\u001b[0m\n\u001b[0;32m   1638\u001b[0m     montage \u001b[38;5;241m=\u001b[39m _read_csd(fname, head_size\u001b[38;5;241m=\u001b[39mhead_size)\n\u001b[0;32m   1640\u001b[0m \u001b[38;5;28;01melif\u001b[39;00m ext \u001b[38;5;129;01min\u001b[39;00m SUPPORTED_FILE_EXT[\u001b[38;5;124m\"\u001b[39m\u001b[38;5;124masa electrode\u001b[39m\u001b[38;5;124m\"\u001b[39m]:\n\u001b[1;32m-> 1641\u001b[0m     montage \u001b[38;5;241m=\u001b[39m \u001b[43m_read_elc\u001b[49m\u001b[43m(\u001b[49m\u001b[43mfname\u001b[49m\u001b[43m,\u001b[49m\u001b[43m \u001b[49m\u001b[43mhead_size\u001b[49m\u001b[38;5;241;43m=\u001b[39;49m\u001b[43mhead_size\u001b[49m\u001b[43m)\u001b[49m\n\u001b[0;32m   1643\u001b[0m \u001b[38;5;28;01melif\u001b[39;00m ext \u001b[38;5;129;01min\u001b[39;00m SUPPORTED_FILE_EXT[\u001b[38;5;124m\"\u001b[39m\u001b[38;5;124mgeneric (Theta-phi in degrees)\u001b[39m\u001b[38;5;124m\"\u001b[39m]:\n\u001b[0;32m   1644\u001b[0m     \u001b[38;5;28;01mif\u001b[39;00m head_size \u001b[38;5;129;01mis\u001b[39;00m \u001b[38;5;28;01mNone\u001b[39;00m:\n",
      "File \u001b[1;32mc:\\Users\\erang\\AppData\\Local\\pypoetry\\Cache\\virtualenvs\\oddball-KYxTObZq-py3.8\\lib\\site-packages\\mne\\channels\\_standard_montage_utils.py:267\u001b[0m, in \u001b[0;36m_read_elc\u001b[1;34m(fname, head_size)\u001b[0m\n\u001b[0;32m    265\u001b[0m     \u001b[38;5;28;01mif\u001b[39;00m \u001b[38;5;124m\"\u001b[39m\u001b[38;5;124mLabels\u001b[39m\u001b[38;5;130;01m\\n\u001b[39;00m\u001b[38;5;124m\"\u001b[39m \u001b[38;5;129;01min\u001b[39;00m line:\n\u001b[0;32m    266\u001b[0m         \u001b[38;5;28;01mbreak\u001b[39;00m\n\u001b[1;32m--> 267\u001b[0m     pos\u001b[38;5;241m.\u001b[39mappend(\u001b[38;5;28;43mlist\u001b[39;49m\u001b[43m(\u001b[49m\u001b[38;5;28;43mmap\u001b[39;49m\u001b[43m(\u001b[49m\u001b[38;5;28;43mfloat\u001b[39;49m\u001b[43m,\u001b[49m\u001b[43m \u001b[49m\u001b[43mline\u001b[49m\u001b[38;5;241;43m.\u001b[39;49m\u001b[43msplit\u001b[49m\u001b[43m(\u001b[49m\u001b[43m)\u001b[49m\u001b[43m)\u001b[49m\u001b[43m)\u001b[49m)\n\u001b[0;32m    268\u001b[0m \u001b[38;5;28;01mfor\u001b[39;00m line \u001b[38;5;129;01min\u001b[39;00m fid:\n\u001b[0;32m    269\u001b[0m     \u001b[38;5;28;01mif\u001b[39;00m \u001b[38;5;129;01mnot\u001b[39;00m line \u001b[38;5;129;01mor\u001b[39;00m \u001b[38;5;129;01mnot\u001b[39;00m \u001b[38;5;28mset\u001b[39m(line) \u001b[38;5;241m-\u001b[39m {\u001b[38;5;124m\"\u001b[39m\u001b[38;5;124m \u001b[39m\u001b[38;5;124m\"\u001b[39m}:\n",
      "\u001b[1;31mValueError\u001b[0m: could not convert string to float: '1Z'"
     ]
    }
   ],
   "source": [
    "neonatal_montage = mne.channels.read_custom_montage(path)"
   ]
  }
 ],
 "metadata": {
  "kernelspec": {
   "display_name": "oddball-KYxTObZq-py3.8",
   "language": "python",
   "name": "python3"
  },
  "language_info": {
   "codemirror_mode": {
    "name": "ipython",
    "version": 3
   },
   "file_extension": ".py",
   "mimetype": "text/x-python",
   "name": "python",
   "nbconvert_exporter": "python",
   "pygments_lexer": "ipython3",
   "version": "3.8.10"
  }
 },
 "nbformat": 4,
 "nbformat_minor": 2
}
